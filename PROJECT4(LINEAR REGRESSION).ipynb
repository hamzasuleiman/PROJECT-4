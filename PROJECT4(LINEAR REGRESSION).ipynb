{
 "cells": [
  {
   "cell_type": "code",
   "execution_count": 1,
   "id": "fde2d480-2b5e-43a6-a9d4-60ca91bac947",
   "metadata": {
    "tags": []
   },
   "outputs": [],
   "source": [
    "import numpy as np\n",
    "import pandas as pd\n",
    "import matplotlib.pyplot as plt\n",
    "import seaborn as sns\n",
    "import plotly.express as px\n",
    "from sklearn.model_selection import train_test_split\n",
    "from sklearn.preprocessing import StandardScaler,LabelEncoder\n",
    "from sklearn.linear_model import LinearRegression,Lasso,Ridge,ElasticNet\n",
    "from sklearn.svm import SVR\n",
    "from sklearn.tree import DecisionTreeRegressor\n",
    "from sklearn.ensemble import RandomForestRegressor\n",
    "from sklearn.neural_network import MLPRegressor\n",
    "from sklearn.metrics import r2_score,mean_absolute_error,mean_absolute_percentage_error,mean_squared_error\n",
    "from sklearn.feature_selection import mutual_info_classif, mutual_info_regression\n",
    "from sklearn.pipeline import Pipeline"
   ]
  },
  {
   "cell_type": "code",
   "execution_count": 2,
   "id": "53765259-cad9-4be4-a9d4-4f2cf0b5aea3",
   "metadata": {
    "tags": []
   },
   "outputs": [
    {
     "data": {
      "text/html": [
       "<div>\n",
       "<style scoped>\n",
       "    .dataframe tbody tr th:only-of-type {\n",
       "        vertical-align: middle;\n",
       "    }\n",
       "\n",
       "    .dataframe tbody tr th {\n",
       "        vertical-align: top;\n",
       "    }\n",
       "\n",
       "    .dataframe thead th {\n",
       "        text-align: right;\n",
       "    }\n",
       "</style>\n",
       "<table border=\"1\" class=\"dataframe\">\n",
       "  <thead>\n",
       "    <tr style=\"text-align: right;\">\n",
       "      <th></th>\n",
       "      <th>Ad ID</th>\n",
       "      <th>Car Name</th>\n",
       "      <th>Make</th>\n",
       "      <th>Model</th>\n",
       "      <th>Year</th>\n",
       "      <th>KM's driven</th>\n",
       "      <th>Price</th>\n",
       "      <th>Fuel</th>\n",
       "      <th>Registration city</th>\n",
       "      <th>Car documents</th>\n",
       "      <th>Assembly</th>\n",
       "      <th>Transmission</th>\n",
       "      <th>Condition</th>\n",
       "      <th>Seller Location</th>\n",
       "      <th>Description</th>\n",
       "      <th>Car Features</th>\n",
       "      <th>Images URL's</th>\n",
       "      <th>Car Profile</th>\n",
       "    </tr>\n",
       "  </thead>\n",
       "  <tbody>\n",
       "    <tr>\n",
       "      <th>0</th>\n",
       "      <td>1079071571</td>\n",
       "      <td>fresh import Passo 2021model</td>\n",
       "      <td>Toyota</td>\n",
       "      <td>Passo</td>\n",
       "      <td>2021</td>\n",
       "      <td>54000</td>\n",
       "      <td>4190000</td>\n",
       "      <td>Petrol</td>\n",
       "      <td>Unregistered</td>\n",
       "      <td>Original</td>\n",
       "      <td>Imported</td>\n",
       "      <td>Automatic</td>\n",
       "      <td>Used</td>\n",
       "      <td>Airline Avenue, Islamabad</td>\n",
       "      <td>it's 2021 model fresh import, perfect engine s...</td>\n",
       "      <td>ABS, Air Bags, AM/FM Radio, CD Player, Cassett...</td>\n",
       "      <td>['https://images.olx.com.pk/thumbnails/4039460...</td>\n",
       "      <td>https://www.olx.com.pk/item/fresh-import-passo...</td>\n",
       "    </tr>\n",
       "    <tr>\n",
       "      <th>1</th>\n",
       "      <td>1080125520</td>\n",
       "      <td>Suzuki ravi</td>\n",
       "      <td>Suzuki</td>\n",
       "      <td>Ravi</td>\n",
       "      <td>2018</td>\n",
       "      <td>95000</td>\n",
       "      <td>1300000</td>\n",
       "      <td>Petrol</td>\n",
       "      <td>Karachi</td>\n",
       "      <td>Original</td>\n",
       "      <td>Local</td>\n",
       "      <td>Manual</td>\n",
       "      <td>Used</td>\n",
       "      <td>Kahuta, Rawalpindi</td>\n",
       "      <td>Suzuki ravi 2018 col</td>\n",
       "      <td>AM/FM Radio</td>\n",
       "      <td>['https://images.olx.com.pk/thumbnails/4102504...</td>\n",
       "      <td>https://www.olx.com.pk/item/suzuki-ravi-iid-10...</td>\n",
       "    </tr>\n",
       "    <tr>\n",
       "      <th>2</th>\n",
       "      <td>1080748789</td>\n",
       "      <td>Suzuki bolan 2015 contact 03112271054</td>\n",
       "      <td>Suzuki</td>\n",
       "      <td>Bolan</td>\n",
       "      <td>2015</td>\n",
       "      <td>50000</td>\n",
       "      <td>800000</td>\n",
       "      <td>Petrol</td>\n",
       "      <td>Karachi</td>\n",
       "      <td>Original</td>\n",
       "      <td>Local</td>\n",
       "      <td>Manual</td>\n",
       "      <td>Used</td>\n",
       "      <td>Lyari Expressway, Karachi</td>\n",
       "      <td>Suzuki bolan model 2015 reg 2022 ghadi me koi ...</td>\n",
       "      <td>Rear speakers</td>\n",
       "      <td>['https://images.olx.com.pk/thumbnails/4139520...</td>\n",
       "      <td>https://www.olx.com.pk/item/suzuki-bolan-2015-...</td>\n",
       "    </tr>\n",
       "    <tr>\n",
       "      <th>3</th>\n",
       "      <td>1076081635</td>\n",
       "      <td>Diahatsu Move 2013</td>\n",
       "      <td>Daihatsu</td>\n",
       "      <td>Move</td>\n",
       "      <td>2013</td>\n",
       "      <td>94000</td>\n",
       "      <td>2155000</td>\n",
       "      <td>Petrol</td>\n",
       "      <td>Lahore</td>\n",
       "      <td>Original</td>\n",
       "      <td>Imported</td>\n",
       "      <td>Automatic</td>\n",
       "      <td>Used</td>\n",
       "      <td>New Amir Town, Lahore</td>\n",
       "      <td>Move Push start \\nHome Used car. \\nModel 2013....</td>\n",
       "      <td>ABS, Air Bags, Air Conditioning, Alloy Rims, A...</td>\n",
       "      <td>['https://images.olx.com.pk/thumbnails/3865337...</td>\n",
       "      <td>https://www.olx.com.pk/item/diahatsu-move-2013...</td>\n",
       "    </tr>\n",
       "    <tr>\n",
       "      <th>4</th>\n",
       "      <td>1080812928</td>\n",
       "      <td>Suzuki Swift DLX 2011 miner tuchap</td>\n",
       "      <td>Suzuki</td>\n",
       "      <td>Swift</td>\n",
       "      <td>2011</td>\n",
       "      <td>126544</td>\n",
       "      <td>1440000</td>\n",
       "      <td>Petrol</td>\n",
       "      <td>Karachi</td>\n",
       "      <td>Original</td>\n",
       "      <td>Local</td>\n",
       "      <td>Manual</td>\n",
       "      <td>Used</td>\n",
       "      <td>Shadman 2, Karachi</td>\n",
       "      <td>Suzuki Swift DLX\\nAbS Break 100%\\nengine 100%\\...</td>\n",
       "      <td>ABS, Air Conditioning, Alloy Rims, AM/FM Radio...</td>\n",
       "      <td>['https://images.olx.com.pk/thumbnails/4143509...</td>\n",
       "      <td>https://www.olx.com.pk/item/suzuki-swift-dlx-2...</td>\n",
       "    </tr>\n",
       "  </tbody>\n",
       "</table>\n",
       "</div>"
      ],
      "text/plain": [
       "        Ad ID                               Car Name      Make  Model  Year  \\\n",
       "0  1079071571           fresh import Passo 2021model    Toyota  Passo  2021   \n",
       "1  1080125520                            Suzuki ravi    Suzuki   Ravi  2018   \n",
       "2  1080748789  Suzuki bolan 2015 contact 03112271054    Suzuki  Bolan  2015   \n",
       "3  1076081635                     Diahatsu Move 2013  Daihatsu   Move  2013   \n",
       "4  1080812928     Suzuki Swift DLX 2011 miner tuchap    Suzuki  Swift  2011   \n",
       "\n",
       "   KM's driven    Price    Fuel Registration city Car documents  Assembly  \\\n",
       "0        54000  4190000  Petrol      Unregistered      Original  Imported   \n",
       "1        95000  1300000  Petrol           Karachi      Original     Local   \n",
       "2        50000   800000  Petrol           Karachi      Original     Local   \n",
       "3        94000  2155000  Petrol            Lahore      Original  Imported   \n",
       "4       126544  1440000  Petrol           Karachi      Original     Local   \n",
       "\n",
       "  Transmission Condition            Seller Location  \\\n",
       "0    Automatic      Used  Airline Avenue, Islamabad   \n",
       "1       Manual      Used         Kahuta, Rawalpindi   \n",
       "2       Manual      Used  Lyari Expressway, Karachi   \n",
       "3    Automatic      Used      New Amir Town, Lahore   \n",
       "4       Manual      Used         Shadman 2, Karachi   \n",
       "\n",
       "                                         Description  \\\n",
       "0  it's 2021 model fresh import, perfect engine s...   \n",
       "1                              Suzuki ravi 2018 col    \n",
       "2  Suzuki bolan model 2015 reg 2022 ghadi me koi ...   \n",
       "3  Move Push start \\nHome Used car. \\nModel 2013....   \n",
       "4  Suzuki Swift DLX\\nAbS Break 100%\\nengine 100%\\...   \n",
       "\n",
       "                                        Car Features  \\\n",
       "0  ABS, Air Bags, AM/FM Radio, CD Player, Cassett...   \n",
       "1                                        AM/FM Radio   \n",
       "2                                      Rear speakers   \n",
       "3  ABS, Air Bags, Air Conditioning, Alloy Rims, A...   \n",
       "4  ABS, Air Conditioning, Alloy Rims, AM/FM Radio...   \n",
       "\n",
       "                                        Images URL's  \\\n",
       "0  ['https://images.olx.com.pk/thumbnails/4039460...   \n",
       "1  ['https://images.olx.com.pk/thumbnails/4102504...   \n",
       "2  ['https://images.olx.com.pk/thumbnails/4139520...   \n",
       "3  ['https://images.olx.com.pk/thumbnails/3865337...   \n",
       "4  ['https://images.olx.com.pk/thumbnails/4143509...   \n",
       "\n",
       "                                         Car Profile  \n",
       "0  https://www.olx.com.pk/item/fresh-import-passo...  \n",
       "1  https://www.olx.com.pk/item/suzuki-ravi-iid-10...  \n",
       "2  https://www.olx.com.pk/item/suzuki-bolan-2015-...  \n",
       "3  https://www.olx.com.pk/item/diahatsu-move-2013...  \n",
       "4  https://www.olx.com.pk/item/suzuki-swift-dlx-2...  "
      ]
     },
     "execution_count": 2,
     "metadata": {},
     "output_type": "execute_result"
    }
   ],
   "source": [
    "df=pd.read_csv(\"OLX_cars_dataset00.csv\")\n",
    "df.head()"
   ]
  },
  {
   "cell_type": "code",
   "execution_count": 3,
   "id": "57ea7924-b3c4-452e-82ec-4e2c4977c29c",
   "metadata": {
    "tags": []
   },
   "outputs": [
    {
     "data": {
      "text/plain": [
       "(9179, 18)"
      ]
     },
     "execution_count": 3,
     "metadata": {},
     "output_type": "execute_result"
    }
   ],
   "source": [
    "df.shape"
   ]
  },
  {
   "cell_type": "code",
   "execution_count": 4,
   "id": "3c460fcd-984b-471e-b48f-cd5f41c96436",
   "metadata": {
    "tags": []
   },
   "outputs": [],
   "source": [
    "df.drop([\"Images URL's\",\"Car Profile\"],axis=1,inplace=True)"
   ]
  },
  {
   "cell_type": "code",
   "execution_count": 5,
   "id": "d7caf935-e7c0-488e-a457-f42622ccb913",
   "metadata": {
    "tags": []
   },
   "outputs": [
    {
     "data": {
      "text/html": [
       "<div>\n",
       "<style scoped>\n",
       "    .dataframe tbody tr th:only-of-type {\n",
       "        vertical-align: middle;\n",
       "    }\n",
       "\n",
       "    .dataframe tbody tr th {\n",
       "        vertical-align: top;\n",
       "    }\n",
       "\n",
       "    .dataframe thead th {\n",
       "        text-align: right;\n",
       "    }\n",
       "</style>\n",
       "<table border=\"1\" class=\"dataframe\">\n",
       "  <thead>\n",
       "    <tr style=\"text-align: right;\">\n",
       "      <th></th>\n",
       "      <th>Ad ID</th>\n",
       "      <th>Car Name</th>\n",
       "      <th>Make</th>\n",
       "      <th>Model</th>\n",
       "      <th>Year</th>\n",
       "      <th>KM's driven</th>\n",
       "      <th>Price</th>\n",
       "      <th>Fuel</th>\n",
       "      <th>Registration city</th>\n",
       "      <th>Car documents</th>\n",
       "      <th>Assembly</th>\n",
       "      <th>Transmission</th>\n",
       "      <th>Condition</th>\n",
       "      <th>Seller Location</th>\n",
       "      <th>Description</th>\n",
       "      <th>Car Features</th>\n",
       "    </tr>\n",
       "  </thead>\n",
       "  <tbody>\n",
       "    <tr>\n",
       "      <th>0</th>\n",
       "      <td>1079071571</td>\n",
       "      <td>fresh import Passo 2021model</td>\n",
       "      <td>Toyota</td>\n",
       "      <td>Passo</td>\n",
       "      <td>2021</td>\n",
       "      <td>54000</td>\n",
       "      <td>4190000</td>\n",
       "      <td>Petrol</td>\n",
       "      <td>Unregistered</td>\n",
       "      <td>Original</td>\n",
       "      <td>Imported</td>\n",
       "      <td>Automatic</td>\n",
       "      <td>Used</td>\n",
       "      <td>Airline Avenue, Islamabad</td>\n",
       "      <td>it's 2021 model fresh import, perfect engine s...</td>\n",
       "      <td>ABS, Air Bags, AM/FM Radio, CD Player, Cassett...</td>\n",
       "    </tr>\n",
       "    <tr>\n",
       "      <th>1</th>\n",
       "      <td>1080125520</td>\n",
       "      <td>Suzuki ravi</td>\n",
       "      <td>Suzuki</td>\n",
       "      <td>Ravi</td>\n",
       "      <td>2018</td>\n",
       "      <td>95000</td>\n",
       "      <td>1300000</td>\n",
       "      <td>Petrol</td>\n",
       "      <td>Karachi</td>\n",
       "      <td>Original</td>\n",
       "      <td>Local</td>\n",
       "      <td>Manual</td>\n",
       "      <td>Used</td>\n",
       "      <td>Kahuta, Rawalpindi</td>\n",
       "      <td>Suzuki ravi 2018 col</td>\n",
       "      <td>AM/FM Radio</td>\n",
       "    </tr>\n",
       "    <tr>\n",
       "      <th>2</th>\n",
       "      <td>1080748789</td>\n",
       "      <td>Suzuki bolan 2015 contact 03112271054</td>\n",
       "      <td>Suzuki</td>\n",
       "      <td>Bolan</td>\n",
       "      <td>2015</td>\n",
       "      <td>50000</td>\n",
       "      <td>800000</td>\n",
       "      <td>Petrol</td>\n",
       "      <td>Karachi</td>\n",
       "      <td>Original</td>\n",
       "      <td>Local</td>\n",
       "      <td>Manual</td>\n",
       "      <td>Used</td>\n",
       "      <td>Lyari Expressway, Karachi</td>\n",
       "      <td>Suzuki bolan model 2015 reg 2022 ghadi me koi ...</td>\n",
       "      <td>Rear speakers</td>\n",
       "    </tr>\n",
       "    <tr>\n",
       "      <th>3</th>\n",
       "      <td>1076081635</td>\n",
       "      <td>Diahatsu Move 2013</td>\n",
       "      <td>Daihatsu</td>\n",
       "      <td>Move</td>\n",
       "      <td>2013</td>\n",
       "      <td>94000</td>\n",
       "      <td>2155000</td>\n",
       "      <td>Petrol</td>\n",
       "      <td>Lahore</td>\n",
       "      <td>Original</td>\n",
       "      <td>Imported</td>\n",
       "      <td>Automatic</td>\n",
       "      <td>Used</td>\n",
       "      <td>New Amir Town, Lahore</td>\n",
       "      <td>Move Push start \\nHome Used car. \\nModel 2013....</td>\n",
       "      <td>ABS, Air Bags, Air Conditioning, Alloy Rims, A...</td>\n",
       "    </tr>\n",
       "    <tr>\n",
       "      <th>4</th>\n",
       "      <td>1080812928</td>\n",
       "      <td>Suzuki Swift DLX 2011 miner tuchap</td>\n",
       "      <td>Suzuki</td>\n",
       "      <td>Swift</td>\n",
       "      <td>2011</td>\n",
       "      <td>126544</td>\n",
       "      <td>1440000</td>\n",
       "      <td>Petrol</td>\n",
       "      <td>Karachi</td>\n",
       "      <td>Original</td>\n",
       "      <td>Local</td>\n",
       "      <td>Manual</td>\n",
       "      <td>Used</td>\n",
       "      <td>Shadman 2, Karachi</td>\n",
       "      <td>Suzuki Swift DLX\\nAbS Break 100%\\nengine 100%\\...</td>\n",
       "      <td>ABS, Air Conditioning, Alloy Rims, AM/FM Radio...</td>\n",
       "    </tr>\n",
       "  </tbody>\n",
       "</table>\n",
       "</div>"
      ],
      "text/plain": [
       "        Ad ID                               Car Name      Make  Model  Year  \\\n",
       "0  1079071571           fresh import Passo 2021model    Toyota  Passo  2021   \n",
       "1  1080125520                            Suzuki ravi    Suzuki   Ravi  2018   \n",
       "2  1080748789  Suzuki bolan 2015 contact 03112271054    Suzuki  Bolan  2015   \n",
       "3  1076081635                     Diahatsu Move 2013  Daihatsu   Move  2013   \n",
       "4  1080812928     Suzuki Swift DLX 2011 miner tuchap    Suzuki  Swift  2011   \n",
       "\n",
       "   KM's driven    Price    Fuel Registration city Car documents  Assembly  \\\n",
       "0        54000  4190000  Petrol      Unregistered      Original  Imported   \n",
       "1        95000  1300000  Petrol           Karachi      Original     Local   \n",
       "2        50000   800000  Petrol           Karachi      Original     Local   \n",
       "3        94000  2155000  Petrol            Lahore      Original  Imported   \n",
       "4       126544  1440000  Petrol           Karachi      Original     Local   \n",
       "\n",
       "  Transmission Condition            Seller Location  \\\n",
       "0    Automatic      Used  Airline Avenue, Islamabad   \n",
       "1       Manual      Used         Kahuta, Rawalpindi   \n",
       "2       Manual      Used  Lyari Expressway, Karachi   \n",
       "3    Automatic      Used      New Amir Town, Lahore   \n",
       "4       Manual      Used         Shadman 2, Karachi   \n",
       "\n",
       "                                         Description  \\\n",
       "0  it's 2021 model fresh import, perfect engine s...   \n",
       "1                              Suzuki ravi 2018 col    \n",
       "2  Suzuki bolan model 2015 reg 2022 ghadi me koi ...   \n",
       "3  Move Push start \\nHome Used car. \\nModel 2013....   \n",
       "4  Suzuki Swift DLX\\nAbS Break 100%\\nengine 100%\\...   \n",
       "\n",
       "                                        Car Features  \n",
       "0  ABS, Air Bags, AM/FM Radio, CD Player, Cassett...  \n",
       "1                                        AM/FM Radio  \n",
       "2                                      Rear speakers  \n",
       "3  ABS, Air Bags, Air Conditioning, Alloy Rims, A...  \n",
       "4  ABS, Air Conditioning, Alloy Rims, AM/FM Radio...  "
      ]
     },
     "execution_count": 5,
     "metadata": {},
     "output_type": "execute_result"
    }
   ],
   "source": [
    "df.head()"
   ]
  },
  {
   "cell_type": "code",
   "execution_count": 6,
   "id": "ecdad606-8f0e-47b8-bc98-005996b6f6bf",
   "metadata": {
    "tags": []
   },
   "outputs": [
    {
     "data": {
      "text/plain": [
       "Ad ID                0\n",
       "Car Name             0\n",
       "Make                 0\n",
       "Model                0\n",
       "Year                 0\n",
       "KM's driven          0\n",
       "Price                0\n",
       "Fuel                 0\n",
       "Registration city    0\n",
       "Car documents        0\n",
       "Assembly             0\n",
       "Transmission         0\n",
       "Condition            0\n",
       "Seller Location      0\n",
       "Description          0\n",
       "Car Features         0\n",
       "dtype: int64"
      ]
     },
     "execution_count": 6,
     "metadata": {},
     "output_type": "execute_result"
    }
   ],
   "source": [
    "df.isnull().sum()"
   ]
  },
  {
   "cell_type": "code",
   "execution_count": 12,
   "id": "5d280278-a6a7-42bc-b388-c959147b96b1",
   "metadata": {
    "tags": []
   },
   "outputs": [
    {
     "name": "stdout",
     "output_type": "stream",
     "text": [
      "<class 'pandas.core.frame.DataFrame'>\n",
      "RangeIndex: 9179 entries, 0 to 9178\n",
      "Data columns (total 16 columns):\n",
      " #   Column             Non-Null Count  Dtype  \n",
      "---  ------             --------------  -----  \n",
      " 0   Ad ID              9179 non-null   int64  \n",
      " 1   Car Name           9179 non-null   object \n",
      " 2   Make               9179 non-null   object \n",
      " 3   Model              9179 non-null   object \n",
      " 4   Year               9179 non-null   int64  \n",
      " 5   KM's driven        9179 non-null   int64  \n",
      " 6   Price              9179 non-null   int64  \n",
      " 7   Fuel               9179 non-null   object \n",
      " 8   Registration city  9179 non-null   object \n",
      " 9   Car documents      9179 non-null   object \n",
      " 10  Assembly           9179 non-null   object \n",
      " 11  Transmission       9179 non-null   object \n",
      " 12  Condition          9179 non-null   object \n",
      " 13  Seller Location    9179 non-null   object \n",
      " 14  Description        9179 non-null   object \n",
      " 15  Car Features       0 non-null      float64\n",
      "dtypes: float64(1), int64(4), object(11)\n",
      "memory usage: 1.1+ MB\n",
      "None\n"
     ]
    }
   ],
   "source": [
    "\n",
    "df[\"Description\"] = df[\"Description\"].str.replace(\"[^a-zA-Z0-9\\s]\", \"\")\n",
    "df[\"Car Features\"] = pd.to_numeric(df[\"Car Features\"], errors='coerce')\n",
    "print(df.info())\n"
   ]
  },
  {
   "cell_type": "code",
   "execution_count": 22,
   "id": "3905a414-8c40-4efc-8f13-0391fdd56326",
   "metadata": {
    "tags": []
   },
   "outputs": [
    {
     "data": {
      "text/html": [
       "<div>\n",
       "<style scoped>\n",
       "    .dataframe tbody tr th:only-of-type {\n",
       "        vertical-align: middle;\n",
       "    }\n",
       "\n",
       "    .dataframe tbody tr th {\n",
       "        vertical-align: top;\n",
       "    }\n",
       "\n",
       "    .dataframe thead th {\n",
       "        text-align: right;\n",
       "    }\n",
       "</style>\n",
       "<table border=\"1\" class=\"dataframe\">\n",
       "  <thead>\n",
       "    <tr style=\"text-align: right;\">\n",
       "      <th></th>\n",
       "      <th>Ad ID</th>\n",
       "      <th>Car Name</th>\n",
       "      <th>Make</th>\n",
       "      <th>Model</th>\n",
       "      <th>Year</th>\n",
       "      <th>KM's driven</th>\n",
       "      <th>Price</th>\n",
       "      <th>Fuel</th>\n",
       "      <th>Registration city</th>\n",
       "      <th>Car documents</th>\n",
       "      <th>Assembly</th>\n",
       "      <th>Transmission</th>\n",
       "      <th>Condition</th>\n",
       "      <th>Seller Location</th>\n",
       "      <th>Description</th>\n",
       "    </tr>\n",
       "  </thead>\n",
       "  <tbody>\n",
       "    <tr>\n",
       "      <th>0</th>\n",
       "      <td>1079071571</td>\n",
       "      <td>6574</td>\n",
       "      <td>10</td>\n",
       "      <td>44</td>\n",
       "      <td>2021</td>\n",
       "      <td>54000</td>\n",
       "      <td>4190000</td>\n",
       "      <td>3</td>\n",
       "      <td>57</td>\n",
       "      <td>1</td>\n",
       "      <td>0</td>\n",
       "      <td>0</td>\n",
       "      <td>0</td>\n",
       "      <td>92</td>\n",
       "      <td>7367</td>\n",
       "    </tr>\n",
       "    <tr>\n",
       "      <th>1</th>\n",
       "      <td>1080125520</td>\n",
       "      <td>4830</td>\n",
       "      <td>9</td>\n",
       "      <td>47</td>\n",
       "      <td>2018</td>\n",
       "      <td>95000</td>\n",
       "      <td>1300000</td>\n",
       "      <td>3</td>\n",
       "      <td>25</td>\n",
       "      <td>1</td>\n",
       "      <td>1</td>\n",
       "      <td>1</td>\n",
       "      <td>0</td>\n",
       "      <td>1399</td>\n",
       "      <td>5079</td>\n",
       "    </tr>\n",
       "    <tr>\n",
       "      <th>2</th>\n",
       "      <td>1080748789</td>\n",
       "      <td>4686</td>\n",
       "      <td>9</td>\n",
       "      <td>4</td>\n",
       "      <td>2015</td>\n",
       "      <td>50000</td>\n",
       "      <td>800000</td>\n",
       "      <td>3</td>\n",
       "      <td>25</td>\n",
       "      <td>1</td>\n",
       "      <td>1</td>\n",
       "      <td>1</td>\n",
       "      <td>0</td>\n",
       "      <td>1614</td>\n",
       "      <td>4992</td>\n",
       "    </tr>\n",
       "    <tr>\n",
       "      <th>3</th>\n",
       "      <td>1076081635</td>\n",
       "      <td>1509</td>\n",
       "      <td>2</td>\n",
       "      <td>42</td>\n",
       "      <td>2013</td>\n",
       "      <td>94000</td>\n",
       "      <td>2155000</td>\n",
       "      <td>3</td>\n",
       "      <td>30</td>\n",
       "      <td>1</td>\n",
       "      <td>0</td>\n",
       "      <td>0</td>\n",
       "      <td>0</td>\n",
       "      <td>1904</td>\n",
       "      <td>3969</td>\n",
       "    </tr>\n",
       "    <tr>\n",
       "      <th>4</th>\n",
       "      <td>1080812928</td>\n",
       "      <td>4482</td>\n",
       "      <td>9</td>\n",
       "      <td>52</td>\n",
       "      <td>2011</td>\n",
       "      <td>126544</td>\n",
       "      <td>1440000</td>\n",
       "      <td>3</td>\n",
       "      <td>25</td>\n",
       "      <td>1</td>\n",
       "      <td>1</td>\n",
       "      <td>1</td>\n",
       "      <td>0</td>\n",
       "      <td>2447</td>\n",
       "      <td>4852</td>\n",
       "    </tr>\n",
       "  </tbody>\n",
       "</table>\n",
       "</div>"
      ],
      "text/plain": [
       "        Ad ID  Car Name  Make  Model  Year  KM's driven    Price  Fuel  \\\n",
       "0  1079071571      6574    10     44  2021        54000  4190000     3   \n",
       "1  1080125520      4830     9     47  2018        95000  1300000     3   \n",
       "2  1080748789      4686     9      4  2015        50000   800000     3   \n",
       "3  1076081635      1509     2     42  2013        94000  2155000     3   \n",
       "4  1080812928      4482     9     52  2011       126544  1440000     3   \n",
       "\n",
       "   Registration city  Car documents  Assembly  Transmission  Condition  \\\n",
       "0                 57              1         0             0          0   \n",
       "1                 25              1         1             1          0   \n",
       "2                 25              1         1             1          0   \n",
       "3                 30              1         0             0          0   \n",
       "4                 25              1         1             1          0   \n",
       "\n",
       "   Seller Location  Description  \n",
       "0               92         7367  \n",
       "1             1399         5079  \n",
       "2             1614         4992  \n",
       "3             1904         3969  \n",
       "4             2447         4852  "
      ]
     },
     "execution_count": 22,
     "metadata": {},
     "output_type": "execute_result"
    }
   ],
   "source": [
    "df.head()"
   ]
  },
  {
   "cell_type": "code",
   "execution_count": 23,
   "id": "c161c221-69b1-4f5c-b73e-515e7c3fe6ce",
   "metadata": {
    "tags": []
   },
   "outputs": [
    {
     "data": {
      "text/html": [
       "<div>\n",
       "<style scoped>\n",
       "    .dataframe tbody tr th:only-of-type {\n",
       "        vertical-align: middle;\n",
       "    }\n",
       "\n",
       "    .dataframe tbody tr th {\n",
       "        vertical-align: top;\n",
       "    }\n",
       "\n",
       "    .dataframe thead th {\n",
       "        text-align: right;\n",
       "    }\n",
       "</style>\n",
       "<table border=\"1\" class=\"dataframe\">\n",
       "  <thead>\n",
       "    <tr style=\"text-align: right;\">\n",
       "      <th></th>\n",
       "      <th>Ad ID</th>\n",
       "      <th>Car Name</th>\n",
       "      <th>Make</th>\n",
       "      <th>Model</th>\n",
       "      <th>Year</th>\n",
       "      <th>KM's driven</th>\n",
       "      <th>Price</th>\n",
       "      <th>Fuel</th>\n",
       "      <th>Registration city</th>\n",
       "      <th>Car documents</th>\n",
       "      <th>Assembly</th>\n",
       "      <th>Transmission</th>\n",
       "      <th>Condition</th>\n",
       "      <th>Seller Location</th>\n",
       "      <th>Description</th>\n",
       "    </tr>\n",
       "  </thead>\n",
       "  <tbody>\n",
       "    <tr>\n",
       "      <th>0</th>\n",
       "      <td>1079071571</td>\n",
       "      <td>6574</td>\n",
       "      <td>10</td>\n",
       "      <td>44</td>\n",
       "      <td>2021</td>\n",
       "      <td>54000</td>\n",
       "      <td>4190000</td>\n",
       "      <td>3</td>\n",
       "      <td>57</td>\n",
       "      <td>1</td>\n",
       "      <td>0</td>\n",
       "      <td>0</td>\n",
       "      <td>0</td>\n",
       "      <td>92</td>\n",
       "      <td>7367</td>\n",
       "    </tr>\n",
       "    <tr>\n",
       "      <th>1</th>\n",
       "      <td>1080125520</td>\n",
       "      <td>4830</td>\n",
       "      <td>9</td>\n",
       "      <td>47</td>\n",
       "      <td>2018</td>\n",
       "      <td>95000</td>\n",
       "      <td>1300000</td>\n",
       "      <td>3</td>\n",
       "      <td>25</td>\n",
       "      <td>1</td>\n",
       "      <td>1</td>\n",
       "      <td>1</td>\n",
       "      <td>0</td>\n",
       "      <td>1399</td>\n",
       "      <td>5079</td>\n",
       "    </tr>\n",
       "    <tr>\n",
       "      <th>2</th>\n",
       "      <td>1080748789</td>\n",
       "      <td>4686</td>\n",
       "      <td>9</td>\n",
       "      <td>4</td>\n",
       "      <td>2015</td>\n",
       "      <td>50000</td>\n",
       "      <td>800000</td>\n",
       "      <td>3</td>\n",
       "      <td>25</td>\n",
       "      <td>1</td>\n",
       "      <td>1</td>\n",
       "      <td>1</td>\n",
       "      <td>0</td>\n",
       "      <td>1614</td>\n",
       "      <td>4992</td>\n",
       "    </tr>\n",
       "    <tr>\n",
       "      <th>3</th>\n",
       "      <td>1076081635</td>\n",
       "      <td>1509</td>\n",
       "      <td>2</td>\n",
       "      <td>42</td>\n",
       "      <td>2013</td>\n",
       "      <td>94000</td>\n",
       "      <td>2155000</td>\n",
       "      <td>3</td>\n",
       "      <td>30</td>\n",
       "      <td>1</td>\n",
       "      <td>0</td>\n",
       "      <td>0</td>\n",
       "      <td>0</td>\n",
       "      <td>1904</td>\n",
       "      <td>3969</td>\n",
       "    </tr>\n",
       "    <tr>\n",
       "      <th>4</th>\n",
       "      <td>1080812928</td>\n",
       "      <td>4482</td>\n",
       "      <td>9</td>\n",
       "      <td>52</td>\n",
       "      <td>2011</td>\n",
       "      <td>126544</td>\n",
       "      <td>1440000</td>\n",
       "      <td>3</td>\n",
       "      <td>25</td>\n",
       "      <td>1</td>\n",
       "      <td>1</td>\n",
       "      <td>1</td>\n",
       "      <td>0</td>\n",
       "      <td>2447</td>\n",
       "      <td>4852</td>\n",
       "    </tr>\n",
       "  </tbody>\n",
       "</table>\n",
       "</div>"
      ],
      "text/plain": [
       "        Ad ID  Car Name  Make  Model  Year  KM's driven    Price  Fuel  \\\n",
       "0  1079071571      6574    10     44  2021        54000  4190000     3   \n",
       "1  1080125520      4830     9     47  2018        95000  1300000     3   \n",
       "2  1080748789      4686     9      4  2015        50000   800000     3   \n",
       "3  1076081635      1509     2     42  2013        94000  2155000     3   \n",
       "4  1080812928      4482     9     52  2011       126544  1440000     3   \n",
       "\n",
       "   Registration city  Car documents  Assembly  Transmission  Condition  \\\n",
       "0                 57              1         0             0          0   \n",
       "1                 25              1         1             1          0   \n",
       "2                 25              1         1             1          0   \n",
       "3                 30              1         0             0          0   \n",
       "4                 25              1         1             1          0   \n",
       "\n",
       "   Seller Location  Description  \n",
       "0               92         7367  \n",
       "1             1399         5079  \n",
       "2             1614         4992  \n",
       "3             1904         3969  \n",
       "4             2447         4852  "
      ]
     },
     "execution_count": 23,
     "metadata": {},
     "output_type": "execute_result"
    }
   ],
   "source": [
    "encoder= LabelEncoder()\n",
    "category=df.select_dtypes(include=[\"object\",\"category\"])\n",
    "for x in category:\n",
    "    df[x]=encoder.fit_transform(df[x])\n",
    "df.head()"
   ]
  },
  {
   "cell_type": "code",
   "execution_count": 24,
   "id": "da3ad08c-776a-4479-a6dd-dd2cd4dae8dd",
   "metadata": {
    "tags": []
   },
   "outputs": [],
   "source": [
    "## splitting the dataset between x and y, x(independent) which are multiple variable and y (dependent) which is only\n",
    "## one variable\n",
    "X=df.drop([\"Price\"],axis=1)\n",
    "y=df[\"Price\"]"
   ]
  },
  {
   "cell_type": "code",
   "execution_count": 25,
   "id": "b91bed85-0406-442a-867a-16338b246af2",
   "metadata": {
    "tags": []
   },
   "outputs": [
    {
     "data": {
      "text/html": [
       "<div>\n",
       "<style scoped>\n",
       "    .dataframe tbody tr th:only-of-type {\n",
       "        vertical-align: middle;\n",
       "    }\n",
       "\n",
       "    .dataframe tbody tr th {\n",
       "        vertical-align: top;\n",
       "    }\n",
       "\n",
       "    .dataframe thead th {\n",
       "        text-align: right;\n",
       "    }\n",
       "</style>\n",
       "<table border=\"1\" class=\"dataframe\">\n",
       "  <thead>\n",
       "    <tr style=\"text-align: right;\">\n",
       "      <th></th>\n",
       "      <th>Ad ID</th>\n",
       "      <th>Car Name</th>\n",
       "      <th>Make</th>\n",
       "      <th>Model</th>\n",
       "      <th>Year</th>\n",
       "      <th>KM's driven</th>\n",
       "      <th>Fuel</th>\n",
       "      <th>Registration city</th>\n",
       "      <th>Car documents</th>\n",
       "      <th>Assembly</th>\n",
       "      <th>Transmission</th>\n",
       "      <th>Condition</th>\n",
       "      <th>Seller Location</th>\n",
       "      <th>Description</th>\n",
       "    </tr>\n",
       "  </thead>\n",
       "  <tbody>\n",
       "    <tr>\n",
       "      <th>0</th>\n",
       "      <td>1079071571</td>\n",
       "      <td>6574</td>\n",
       "      <td>10</td>\n",
       "      <td>44</td>\n",
       "      <td>2021</td>\n",
       "      <td>54000</td>\n",
       "      <td>3</td>\n",
       "      <td>57</td>\n",
       "      <td>1</td>\n",
       "      <td>0</td>\n",
       "      <td>0</td>\n",
       "      <td>0</td>\n",
       "      <td>92</td>\n",
       "      <td>7367</td>\n",
       "    </tr>\n",
       "    <tr>\n",
       "      <th>1</th>\n",
       "      <td>1080125520</td>\n",
       "      <td>4830</td>\n",
       "      <td>9</td>\n",
       "      <td>47</td>\n",
       "      <td>2018</td>\n",
       "      <td>95000</td>\n",
       "      <td>3</td>\n",
       "      <td>25</td>\n",
       "      <td>1</td>\n",
       "      <td>1</td>\n",
       "      <td>1</td>\n",
       "      <td>0</td>\n",
       "      <td>1399</td>\n",
       "      <td>5079</td>\n",
       "    </tr>\n",
       "    <tr>\n",
       "      <th>2</th>\n",
       "      <td>1080748789</td>\n",
       "      <td>4686</td>\n",
       "      <td>9</td>\n",
       "      <td>4</td>\n",
       "      <td>2015</td>\n",
       "      <td>50000</td>\n",
       "      <td>3</td>\n",
       "      <td>25</td>\n",
       "      <td>1</td>\n",
       "      <td>1</td>\n",
       "      <td>1</td>\n",
       "      <td>0</td>\n",
       "      <td>1614</td>\n",
       "      <td>4992</td>\n",
       "    </tr>\n",
       "    <tr>\n",
       "      <th>3</th>\n",
       "      <td>1076081635</td>\n",
       "      <td>1509</td>\n",
       "      <td>2</td>\n",
       "      <td>42</td>\n",
       "      <td>2013</td>\n",
       "      <td>94000</td>\n",
       "      <td>3</td>\n",
       "      <td>30</td>\n",
       "      <td>1</td>\n",
       "      <td>0</td>\n",
       "      <td>0</td>\n",
       "      <td>0</td>\n",
       "      <td>1904</td>\n",
       "      <td>3969</td>\n",
       "    </tr>\n",
       "    <tr>\n",
       "      <th>4</th>\n",
       "      <td>1080812928</td>\n",
       "      <td>4482</td>\n",
       "      <td>9</td>\n",
       "      <td>52</td>\n",
       "      <td>2011</td>\n",
       "      <td>126544</td>\n",
       "      <td>3</td>\n",
       "      <td>25</td>\n",
       "      <td>1</td>\n",
       "      <td>1</td>\n",
       "      <td>1</td>\n",
       "      <td>0</td>\n",
       "      <td>2447</td>\n",
       "      <td>4852</td>\n",
       "    </tr>\n",
       "  </tbody>\n",
       "</table>\n",
       "</div>"
      ],
      "text/plain": [
       "        Ad ID  Car Name  Make  Model  Year  KM's driven  Fuel  \\\n",
       "0  1079071571      6574    10     44  2021        54000     3   \n",
       "1  1080125520      4830     9     47  2018        95000     3   \n",
       "2  1080748789      4686     9      4  2015        50000     3   \n",
       "3  1076081635      1509     2     42  2013        94000     3   \n",
       "4  1080812928      4482     9     52  2011       126544     3   \n",
       "\n",
       "   Registration city  Car documents  Assembly  Transmission  Condition  \\\n",
       "0                 57              1         0             0          0   \n",
       "1                 25              1         1             1          0   \n",
       "2                 25              1         1             1          0   \n",
       "3                 30              1         0             0          0   \n",
       "4                 25              1         1             1          0   \n",
       "\n",
       "   Seller Location  Description  \n",
       "0               92         7367  \n",
       "1             1399         5079  \n",
       "2             1614         4992  \n",
       "3             1904         3969  \n",
       "4             2447         4852  "
      ]
     },
     "execution_count": 25,
     "metadata": {},
     "output_type": "execute_result"
    }
   ],
   "source": [
    "X.head()"
   ]
  },
  {
   "cell_type": "code",
   "execution_count": 26,
   "id": "e3c4d9ec-c0e1-4ffc-bbc2-52af59ca05e7",
   "metadata": {
    "tags": []
   },
   "outputs": [
    {
     "data": {
      "text/plain": [
       "0    4190000\n",
       "1    1300000\n",
       "2     800000\n",
       "3    2155000\n",
       "4    1440000\n",
       "Name: Price, dtype: int64"
      ]
     },
     "execution_count": 26,
     "metadata": {},
     "output_type": "execute_result"
    }
   ],
   "source": [
    "y.head()"
   ]
  },
  {
   "cell_type": "code",
   "execution_count": 19,
   "id": "08dea892-4fac-4b61-9ec6-d69fffc8e530",
   "metadata": {
    "tags": []
   },
   "outputs": [],
   "source": [
    "df.drop([\"Car Features\"],axis=1,inplace=True)"
   ]
  },
  {
   "cell_type": "code",
   "execution_count": 27,
   "id": "bb8f601b-8b1f-4cba-af53-c97cb7917957",
   "metadata": {
    "tags": []
   },
   "outputs": [
    {
     "data": {
      "image/png": "[encoded data removed]",
      "text/plain": [
       "<Figure size 640x480 with 1 Axes>"
      ]
     },
     "metadata": {},
     "output_type": "display_data"
    }
   ],
   "source": [
    "## the mutual importance between each features\n",
    "plt.style.use(\"ggplot\")\n",
    "importance= mutual_info_regression(X,y)\n",
    "feature_impo=pd.Series(importance,X.columns[0:len(X.columns)])\n",
    "feature_impo.plot(kind=\"barh\",color=\"blue\")\n",
    "plt.show()"
   ]
  },
  {
   "cell_type": "code",
   "execution_count": 28,
   "id": "a2594234-0bf3-4e8c-b999-4d016a419f33",
   "metadata": {
    "tags": []
   },
   "outputs": [],
   "source": [
    "xtrain,xtest,ytrain,ytest=train_test_split(X,y, test_size=0.2,random_state=1)"
   ]
  },
  {
   "cell_type": "code",
   "execution_count": 29,
   "id": "fe65b5fc-3ee0-48b6-aba9-a097609b5165",
   "metadata": {
    "tags": []
   },
   "outputs": [
    {
     "data": {
      "text/html": [
       "<style>#sk-container-id-1 {color: black;}#sk-container-id-1 pre{padding: 0;}#sk-container-id-1 div.sk-toggleable {background-color: white;}#sk-container-id-1 label.sk-toggleable__label {cursor: pointer;display: block;width: 100%;margin-bottom: 0;padding: 0.3em;box-sizing: border-box;text-align: center;}#sk-container-id-1 label.sk-toggleable__label-arrow:before {content: \"▸\";float: left;margin-right: 0.25em;color: #696969;}#sk-container-id-1 label.sk-toggleable__label-arrow:hover:before {color: black;}#sk-container-id-1 div.sk-estimator:hover label.sk-toggleable__label-arrow:before {color: black;}#sk-container-id-1 div.sk-toggleable__content {max-height: 0;max-width: 0;overflow: hidden;text-align: left;background-color: #f0f8ff;}#sk-container-id-1 div.sk-toggleable__content pre {margin: 0.2em;color: black;border-radius: 0.25em;background-color: #f0f8ff;}#sk-container-id-1 input.sk-toggleable__control:checked~div.sk-toggleable__content {max-height: 200px;max-width: 100%;overflow: auto;}#sk-container-id-1 input.sk-toggleable__control:checked~label.sk-toggleable__label-arrow:before {content: \"▾\";}#sk-container-id-1 div.sk-estimator input.sk-toggleable__control:checked~label.sk-toggleable__label {background-color: #d4ebff;}#sk-container-id-1 div.sk-label input.sk-toggleable__control:checked~label.sk-toggleable__label {background-color: #d4ebff;}#sk-container-id-1 input.sk-hidden--visually {border: 0;clip: rect(1px 1px 1px 1px);clip: rect(1px, 1px, 1px, 1px);height: 1px;margin: -1px;overflow: hidden;padding: 0;position: absolute;width: 1px;}#sk-container-id-1 div.sk-estimator {font-family: monospace;background-color: #f0f8ff;border: 1px dotted black;border-radius: 0.25em;box-sizing: border-box;margin-bottom: 0.5em;}#sk-container-id-1 div.sk-estimator:hover {background-color: #d4ebff;}#sk-container-id-1 div.sk-parallel-item::after {content: \"\";width: 100%;border-bottom: 1px solid gray;flex-grow: 1;}#sk-container-id-1 div.sk-label:hover label.sk-toggleable__label {background-color: #d4ebff;}#sk-container-id-1 div.sk-serial::before {content: \"\";position: absolute;border-left: 1px solid gray;box-sizing: border-box;top: 0;bottom: 0;left: 50%;z-index: 0;}#sk-container-id-1 div.sk-serial {display: flex;flex-direction: column;align-items: center;background-color: white;padding-right: 0.2em;padding-left: 0.2em;position: relative;}#sk-container-id-1 div.sk-item {position: relative;z-index: 1;}#sk-container-id-1 div.sk-parallel {display: flex;align-items: stretch;justify-content: center;background-color: white;position: relative;}#sk-container-id-1 div.sk-item::before, #sk-container-id-1 div.sk-parallel-item::before {content: \"\";position: absolute;border-left: 1px solid gray;box-sizing: border-box;top: 0;bottom: 0;left: 50%;z-index: -1;}#sk-container-id-1 div.sk-parallel-item {display: flex;flex-direction: column;z-index: 1;position: relative;background-color: white;}#sk-container-id-1 div.sk-parallel-item:first-child::after {align-self: flex-end;width: 50%;}#sk-container-id-1 div.sk-parallel-item:last-child::after {align-self: flex-start;width: 50%;}#sk-container-id-1 div.sk-parallel-item:only-child::after {width: 0;}#sk-container-id-1 div.sk-dashed-wrapped {border: 1px dashed gray;margin: 0 0.4em 0.5em 0.4em;box-sizing: border-box;padding-bottom: 0.4em;background-color: white;}#sk-container-id-1 div.sk-label label {font-family: monospace;font-weight: bold;display: inline-block;line-height: 1.2em;}#sk-container-id-1 div.sk-label-container {text-align: center;}#sk-container-id-1 div.sk-container {/* jupyter's `normalize.less` sets `[hidden] { display: none; }` but bootstrap.min.css set `[hidden] { display: none !important; }` so we also need the `!important` here to be able to override the default hidden behavior on the sphinx rendered scikit-learn.org. See: https://github.com/scikit-learn/scikit-learn/issues/21755 */display: inline-block !important;position: relative;}#sk-container-id-1 div.sk-text-repr-fallback {display: none;}</style><div id=\"sk-container-id-1\" class=\"sk-top-container\"><div class=\"sk-text-repr-fallback\"><pre>Pipeline(steps=[(&#x27;Scaler&#x27;, StandardScaler()),\n",
       "                (&#x27;Regression&#x27;, LinearRegression())])</pre><b>In a Jupyter environment, please rerun this cell to show the HTML representation or trust the notebook. <br />On GitHub, the HTML representation is unable to render, please try loading this page with nbviewer.org.</b></div><div class=\"sk-container\" hidden><div class=\"sk-item sk-dashed-wrapped\"><div class=\"sk-label-container\"><div class=\"sk-label sk-toggleable\"><input class=\"sk-toggleable__control sk-hidden--visually\" id=\"sk-estimator-id-1\" type=\"checkbox\" ><label for=\"sk-estimator-id-1\" class=\"sk-toggleable__label sk-toggleable__label-arrow\">Pipeline</label><div class=\"sk-toggleable__content\"><pre>Pipeline(steps=[(&#x27;Scaler&#x27;, StandardScaler()),\n",
       "                (&#x27;Regression&#x27;, LinearRegression())])</pre></div></div></div><div class=\"sk-serial\"><div class=\"sk-item\"><div class=\"sk-estimator sk-toggleable\"><input class=\"sk-toggleable__control sk-hidden--visually\" id=\"sk-estimator-id-2\" type=\"checkbox\" ><label for=\"sk-estimator-id-2\" class=\"sk-toggleable__label sk-toggleable__label-arrow\">StandardScaler</label><div class=\"sk-toggleable__content\"><pre>StandardScaler()</pre></div></div></div><div class=\"sk-item\"><div class=\"sk-estimator sk-toggleable\"><input class=\"sk-toggleable__control sk-hidden--visually\" id=\"sk-estimator-id-3\" type=\"checkbox\" ><label for=\"sk-estimator-id-3\" class=\"sk-toggleable__label sk-toggleable__label-arrow\">LinearRegression</label><div class=\"sk-toggleable__content\"><pre>LinearRegression()</pre></div></div></div></div></div></div></div>"
      ],
      "text/plain": [
       "Pipeline(steps=[('Scaler', StandardScaler()),\n",
       "                ('Regression', LinearRegression())])"
      ]
     },
     "execution_count": 29,
     "metadata": {},
     "output_type": "execute_result"
    }
   ],
   "source": [
    "LinearModel=Pipeline([(\"Scaler\",StandardScaler()),(\"Regression\",LinearRegression())])\n",
    "LinearModel.fit(xtrain,ytrain)"
   ]
  },
  {
   "cell_type": "code",
   "execution_count": 30,
   "id": "7fb812bd-803e-4561-82d4-18ed2c7a993c",
   "metadata": {
    "tags": []
   },
   "outputs": [
    {
     "data": {
      "text/plain": [
       "array([1582801.51501149, 3430768.67184309, 3245964.79254227, ...,\n",
       "       1555413.35183933, 1853125.21560675, 1182059.42761163])"
      ]
     },
     "execution_count": 30,
     "metadata": {},
     "output_type": "execute_result"
    }
   ],
   "source": [
    "pred=LinearModel.predict(xtest)\n",
    "pred"
   ]
  },
  {
   "cell_type": "code",
   "execution_count": 31,
   "id": "a380c4cf-9172-4131-8240-02a15cf26c46",
   "metadata": {
    "tags": []
   },
   "outputs": [
    {
     "name": "stdout",
     "output_type": "stream",
     "text": [
      "MAE 578844.7734357126\n",
      "MAPE 0.378370585920468\n",
      "MSE 514780688141.541\n",
      "R2 SCORE 0.620277752387699\n"
     ]
    }
   ],
   "source": [
    "print(\"MAE\",mean_absolute_error(ytest,pred))\n",
    "print(\"MAPE\",mean_absolute_percentage_error(ytest,pred))\n",
    "print(\"MSE\",mean_squared_error(ytest,pred))\n",
    "print(\"R2 SCORE\",r2_score(ytest,pred))"
   ]
  },
  {
   "cell_type": "code",
   "execution_count": 32,
   "id": "289bb3f4-f2c4-4916-b9e7-fa85a9d89d25",
   "metadata": {
    "tags": []
   },
   "outputs": [
    {
     "data": {
      "text/html": [
       "<div>\n",
       "<style scoped>\n",
       "    .dataframe tbody tr th:only-of-type {\n",
       "        vertical-align: middle;\n",
       "    }\n",
       "\n",
       "    .dataframe tbody tr th {\n",
       "        vertical-align: top;\n",
       "    }\n",
       "\n",
       "    .dataframe thead th {\n",
       "        text-align: right;\n",
       "    }\n",
       "</style>\n",
       "<table border=\"1\" class=\"dataframe\">\n",
       "  <thead>\n",
       "    <tr style=\"text-align: right;\">\n",
       "      <th></th>\n",
       "      <th>Actual price</th>\n",
       "      <th>Predicted price</th>\n",
       "    </tr>\n",
       "  </thead>\n",
       "  <tbody>\n",
       "    <tr>\n",
       "      <th>5954</th>\n",
       "      <td>2000000</td>\n",
       "      <td>1.582802e+06</td>\n",
       "    </tr>\n",
       "    <tr>\n",
       "      <th>2403</th>\n",
       "      <td>3480000</td>\n",
       "      <td>3.430769e+06</td>\n",
       "    </tr>\n",
       "    <tr>\n",
       "      <th>552</th>\n",
       "      <td>2570000</td>\n",
       "      <td>3.245965e+06</td>\n",
       "    </tr>\n",
       "    <tr>\n",
       "      <th>4950</th>\n",
       "      <td>2750000</td>\n",
       "      <td>2.534495e+06</td>\n",
       "    </tr>\n",
       "    <tr>\n",
       "      <th>481</th>\n",
       "      <td>4300000</td>\n",
       "      <td>2.308231e+06</td>\n",
       "    </tr>\n",
       "    <tr>\n",
       "      <th>...</th>\n",
       "      <td>...</td>\n",
       "      <td>...</td>\n",
       "    </tr>\n",
       "    <tr>\n",
       "      <th>4604</th>\n",
       "      <td>4500000</td>\n",
       "      <td>3.510498e+06</td>\n",
       "    </tr>\n",
       "    <tr>\n",
       "      <th>7977</th>\n",
       "      <td>3200000</td>\n",
       "      <td>2.265555e+06</td>\n",
       "    </tr>\n",
       "    <tr>\n",
       "      <th>9009</th>\n",
       "      <td>1250000</td>\n",
       "      <td>1.555413e+06</td>\n",
       "    </tr>\n",
       "    <tr>\n",
       "      <th>4865</th>\n",
       "      <td>750000</td>\n",
       "      <td>1.853125e+06</td>\n",
       "    </tr>\n",
       "    <tr>\n",
       "      <th>3484</th>\n",
       "      <td>925000</td>\n",
       "      <td>1.182059e+06</td>\n",
       "    </tr>\n",
       "  </tbody>\n",
       "</table>\n",
       "<p>1836 rows × 2 columns</p>\n",
       "</div>"
      ],
      "text/plain": [
       "      Actual price  Predicted price\n",
       "5954       2000000     1.582802e+06\n",
       "2403       3480000     3.430769e+06\n",
       "552        2570000     3.245965e+06\n",
       "4950       2750000     2.534495e+06\n",
       "481        4300000     2.308231e+06\n",
       "...            ...              ...\n",
       "4604       4500000     3.510498e+06\n",
       "7977       3200000     2.265555e+06\n",
       "9009       1250000     1.555413e+06\n",
       "4865        750000     1.853125e+06\n",
       "3484        925000     1.182059e+06\n",
       "\n",
       "[1836 rows x 2 columns]"
      ]
     },
     "execution_count": 32,
     "metadata": {},
     "output_type": "execute_result"
    }
   ],
   "source": [
    "outcome= { \n",
    "    \"Actual price\":ytest,\n",
    "    \"Predicted price\":pred\n",
    "\n",
    "}\n",
    "df3=pd.DataFrame(outcome)\n",
    "df3"
   ]
  },
  {
   "cell_type": "code",
   "execution_count": 41,
   "id": "b4bedc1a-ce1e-4be1-9936-08a220b4168c",
   "metadata": {
    "tags": []
   },
   "outputs": [
    {
     "data": {
      "text/plain": [
       "<Axes: xlabel='Price'>"
      ]
     },
     "execution_count": 41,
     "metadata": {},
     "output_type": "execute_result"
    },
    {
     "data": {
      "image/png": "[encoded data removed]",
      "text/plain": [
       "<Figure size 640x480 with 1 Axes>"
      ]
     },
     "metadata": {},
     "output_type": "display_data"
    }
   ],
   "source": [
    "sns.regplot(x= ytest,y=pred)"
   ]
  },
  {
   "cell_type": "code",
   "execution_count": 33,
   "id": "71871e6e-eaab-4ea7-8a66-3f87bef5c399",
   "metadata": {
    "tags": []
   },
   "outputs": [
    {
     "data": {
      "text/html": [
       "<style>#sk-container-id-2 {color: black;}#sk-container-id-2 pre{padding: 0;}#sk-container-id-2 div.sk-toggleable {background-color: white;}#sk-container-id-2 label.sk-toggleable__label {cursor: pointer;display: block;width: 100%;margin-bottom: 0;padding: 0.3em;box-sizing: border-box;text-align: center;}#sk-container-id-2 label.sk-toggleable__label-arrow:before {content: \"▸\";float: left;margin-right: 0.25em;color: #696969;}#sk-container-id-2 label.sk-toggleable__label-arrow:hover:before {color: black;}#sk-container-id-2 div.sk-estimator:hover label.sk-toggleable__label-arrow:before {color: black;}#sk-container-id-2 div.sk-toggleable__content {max-height: 0;max-width: 0;overflow: hidden;text-align: left;background-color: #f0f8ff;}#sk-container-id-2 div.sk-toggleable__content pre {margin: 0.2em;color: black;border-radius: 0.25em;background-color: #f0f8ff;}#sk-container-id-2 input.sk-toggleable__control:checked~div.sk-toggleable__content {max-height: 200px;max-width: 100%;overflow: auto;}#sk-container-id-2 input.sk-toggleable__control:checked~label.sk-toggleable__label-arrow:before {content: \"▾\";}#sk-container-id-2 div.sk-estimator input.sk-toggleable__control:checked~label.sk-toggleable__label {background-color: #d4ebff;}#sk-container-id-2 div.sk-label input.sk-toggleable__control:checked~label.sk-toggleable__label {background-color: #d4ebff;}#sk-container-id-2 input.sk-hidden--visually {border: 0;clip: rect(1px 1px 1px 1px);clip: rect(1px, 1px, 1px, 1px);height: 1px;margin: -1px;overflow: hidden;padding: 0;position: absolute;width: 1px;}#sk-container-id-2 div.sk-estimator {font-family: monospace;background-color: #f0f8ff;border: 1px dotted black;border-radius: 0.25em;box-sizing: border-box;margin-bottom: 0.5em;}#sk-container-id-2 div.sk-estimator:hover {background-color: #d4ebff;}#sk-container-id-2 div.sk-parallel-item::after {content: \"\";width: 100%;border-bottom: 1px solid gray;flex-grow: 1;}#sk-container-id-2 div.sk-label:hover label.sk-toggleable__label {background-color: #d4ebff;}#sk-container-id-2 div.sk-serial::before {content: \"\";position: absolute;border-left: 1px solid gray;box-sizing: border-box;top: 0;bottom: 0;left: 50%;z-index: 0;}#sk-container-id-2 div.sk-serial {display: flex;flex-direction: column;align-items: center;background-color: white;padding-right: 0.2em;padding-left: 0.2em;position: relative;}#sk-container-id-2 div.sk-item {position: relative;z-index: 1;}#sk-container-id-2 div.sk-parallel {display: flex;align-items: stretch;justify-content: center;background-color: white;position: relative;}#sk-container-id-2 div.sk-item::before, #sk-container-id-2 div.sk-parallel-item::before {content: \"\";position: absolute;border-left: 1px solid gray;box-sizing: border-box;top: 0;bottom: 0;left: 50%;z-index: -1;}#sk-container-id-2 div.sk-parallel-item {display: flex;flex-direction: column;z-index: 1;position: relative;background-color: white;}#sk-container-id-2 div.sk-parallel-item:first-child::after {align-self: flex-end;width: 50%;}#sk-container-id-2 div.sk-parallel-item:last-child::after {align-self: flex-start;width: 50%;}#sk-container-id-2 div.sk-parallel-item:only-child::after {width: 0;}#sk-container-id-2 div.sk-dashed-wrapped {border: 1px dashed gray;margin: 0 0.4em 0.5em 0.4em;box-sizing: border-box;padding-bottom: 0.4em;background-color: white;}#sk-container-id-2 div.sk-label label {font-family: monospace;font-weight: bold;display: inline-block;line-height: 1.2em;}#sk-container-id-2 div.sk-label-container {text-align: center;}#sk-container-id-2 div.sk-container {/* jupyter's `normalize.less` sets `[hidden] { display: none; }` but bootstrap.min.css set `[hidden] { display: none !important; }` so we also need the `!important` here to be able to override the default hidden behavior on the sphinx rendered scikit-learn.org. See: https://github.com/scikit-learn/scikit-learn/issues/21755 */display: inline-block !important;position: relative;}#sk-container-id-2 div.sk-text-repr-fallback {display: none;}</style><div id=\"sk-container-id-2\" class=\"sk-top-container\"><div class=\"sk-text-repr-fallback\"><pre>DecisionTreeRegressor()</pre><b>In a Jupyter environment, please rerun this cell to show the HTML representation or trust the notebook. <br />On GitHub, the HTML representation is unable to render, please try loading this page with nbviewer.org.</b></div><div class=\"sk-container\" hidden><div class=\"sk-item\"><div class=\"sk-estimator sk-toggleable\"><input class=\"sk-toggleable__control sk-hidden--visually\" id=\"sk-estimator-id-4\" type=\"checkbox\" checked><label for=\"sk-estimator-id-4\" class=\"sk-toggleable__label sk-toggleable__label-arrow\">DecisionTreeRegressor</label><div class=\"sk-toggleable__content\"><pre>DecisionTreeRegressor()</pre></div></div></div></div></div>"
      ],
      "text/plain": [
       "DecisionTreeRegressor()"
      ]
     },
     "execution_count": 33,
     "metadata": {},
     "output_type": "execute_result"
    }
   ],
   "source": [
    "tree=DecisionTreeRegressor()\n",
    "tree.fit(xtrain,ytrain)"
   ]
  },
  {
   "cell_type": "code",
   "execution_count": 34,
   "id": "3b0aa8f4-bc4e-4b81-8597-658dd2c627d8",
   "metadata": {
    "tags": []
   },
   "outputs": [
    {
     "data": {
      "text/plain": [
       "array([2000000., 3480000., 1750000., ..., 1490000.,  820000.,  850000.])"
      ]
     },
     "execution_count": 34,
     "metadata": {},
     "output_type": "execute_result"
    }
   ],
   "source": [
    "pred1=tree.predict(xtest)\n",
    "pred1"
   ]
  },
  {
   "cell_type": "code",
   "execution_count": 35,
   "id": "0b0fc6a7-4294-4fd4-bc46-c565cdabcd9e",
   "metadata": {
    "tags": []
   },
   "outputs": [
    {
     "name": "stdout",
     "output_type": "stream",
     "text": [
      "MAE 232387.75163398692\n",
      "MAPE 0.1335993276783363\n",
      "MSE 124222755441.23856\n",
      "R2 SCORE 0.9083684664414399\n"
     ]
    }
   ],
   "source": [
    "print(\"MAE\",mean_absolute_error(ytest,pred1))\n",
    "print(\"MAPE\",mean_absolute_percentage_error(ytest,pred1))\n",
    "print(\"MSE\",mean_squared_error(ytest,pred1))\n",
    "print(\"R2 SCORE\",r2_score(ytest,pred1))"
   ]
  },
  {
   "cell_type": "code",
   "execution_count": 36,
   "id": "f827c3e7-6667-45de-8ad6-3e1bcd092651",
   "metadata": {
    "tags": []
   },
   "outputs": [
    {
     "data": {
      "text/html": [
       "<div>\n",
       "<style scoped>\n",
       "    .dataframe tbody tr th:only-of-type {\n",
       "        vertical-align: middle;\n",
       "    }\n",
       "\n",
       "    .dataframe tbody tr th {\n",
       "        vertical-align: top;\n",
       "    }\n",
       "\n",
       "    .dataframe thead th {\n",
       "        text-align: right;\n",
       "    }\n",
       "</style>\n",
       "<table border=\"1\" class=\"dataframe\">\n",
       "  <thead>\n",
       "    <tr style=\"text-align: right;\">\n",
       "      <th></th>\n",
       "      <th>Actual price</th>\n",
       "      <th>Predicted price</th>\n",
       "    </tr>\n",
       "  </thead>\n",
       "  <tbody>\n",
       "    <tr>\n",
       "      <th>5954</th>\n",
       "      <td>2000000</td>\n",
       "      <td>2000000.0</td>\n",
       "    </tr>\n",
       "    <tr>\n",
       "      <th>2403</th>\n",
       "      <td>3480000</td>\n",
       "      <td>3480000.0</td>\n",
       "    </tr>\n",
       "    <tr>\n",
       "      <th>552</th>\n",
       "      <td>2570000</td>\n",
       "      <td>1750000.0</td>\n",
       "    </tr>\n",
       "    <tr>\n",
       "      <th>4950</th>\n",
       "      <td>2750000</td>\n",
       "      <td>3800000.0</td>\n",
       "    </tr>\n",
       "    <tr>\n",
       "      <th>481</th>\n",
       "      <td>4300000</td>\n",
       "      <td>4200000.0</td>\n",
       "    </tr>\n",
       "    <tr>\n",
       "      <th>...</th>\n",
       "      <td>...</td>\n",
       "      <td>...</td>\n",
       "    </tr>\n",
       "    <tr>\n",
       "      <th>4604</th>\n",
       "      <td>4500000</td>\n",
       "      <td>4500000.0</td>\n",
       "    </tr>\n",
       "    <tr>\n",
       "      <th>7977</th>\n",
       "      <td>3200000</td>\n",
       "      <td>2450000.0</td>\n",
       "    </tr>\n",
       "    <tr>\n",
       "      <th>9009</th>\n",
       "      <td>1250000</td>\n",
       "      <td>1490000.0</td>\n",
       "    </tr>\n",
       "    <tr>\n",
       "      <th>4865</th>\n",
       "      <td>750000</td>\n",
       "      <td>820000.0</td>\n",
       "    </tr>\n",
       "    <tr>\n",
       "      <th>3484</th>\n",
       "      <td>925000</td>\n",
       "      <td>850000.0</td>\n",
       "    </tr>\n",
       "  </tbody>\n",
       "</table>\n",
       "<p>1836 rows × 2 columns</p>\n",
       "</div>"
      ],
      "text/plain": [
       "      Actual price  Predicted price\n",
       "5954       2000000        2000000.0\n",
       "2403       3480000        3480000.0\n",
       "552        2570000        1750000.0\n",
       "4950       2750000        3800000.0\n",
       "481        4300000        4200000.0\n",
       "...            ...              ...\n",
       "4604       4500000        4500000.0\n",
       "7977       3200000        2450000.0\n",
       "9009       1250000        1490000.0\n",
       "4865        750000         820000.0\n",
       "3484        925000         850000.0\n",
       "\n",
       "[1836 rows x 2 columns]"
      ]
     },
     "execution_count": 36,
     "metadata": {},
     "output_type": "execute_result"
    }
   ],
   "source": [
    "outcome= { \n",
    "    \"Actual price\":ytest,\n",
    "    \"Predicted price\":pred1\n",
    "\n",
    "}\n",
    "df3=pd.DataFrame(outcome)\n",
    "df3"
   ]
  },
  {
   "cell_type": "code",
   "execution_count": 42,
   "id": "287082dc-8a02-4b42-8a82-558e457b12b7",
   "metadata": {
    "tags": []
   },
   "outputs": [
    {
     "data": {
      "text/plain": [
       "<Axes: xlabel='Price'>"
      ]
     },
     "execution_count": 42,
     "metadata": {},
     "output_type": "execute_result"
    },
    {
     "data": {
      "image/png": "[encoded data removed]",
      "text/plain": [
       "<Figure size 640x480 with 1 Axes>"
      ]
     },
     "metadata": {},
     "output_type": "display_data"
    }
   ],
   "source": [
    "sns.regplot(x= ytest,y=pred1)"
   ]
  },
  {
   "cell_type": "code",
   "execution_count": 37,
   "id": "246da900-c898-4cbe-980d-3ed46208bf9b",
   "metadata": {
    "tags": []
   },
   "outputs": [
    {
     "data": {
      "text/html": [
       "<style>#sk-container-id-3 {color: black;}#sk-container-id-3 pre{padding: 0;}#sk-container-id-3 div.sk-toggleable {background-color: white;}#sk-container-id-3 label.sk-toggleable__label {cursor: pointer;display: block;width: 100%;margin-bottom: 0;padding: 0.3em;box-sizing: border-box;text-align: center;}#sk-container-id-3 label.sk-toggleable__label-arrow:before {content: \"▸\";float: left;margin-right: 0.25em;color: #696969;}#sk-container-id-3 label.sk-toggleable__label-arrow:hover:before {color: black;}#sk-container-id-3 div.sk-estimator:hover label.sk-toggleable__label-arrow:before {color: black;}#sk-container-id-3 div.sk-toggleable__content {max-height: 0;max-width: 0;overflow: hidden;text-align: left;background-color: #f0f8ff;}#sk-container-id-3 div.sk-toggleable__content pre {margin: 0.2em;color: black;border-radius: 0.25em;background-color: #f0f8ff;}#sk-container-id-3 input.sk-toggleable__control:checked~div.sk-toggleable__content {max-height: 200px;max-width: 100%;overflow: auto;}#sk-container-id-3 input.sk-toggleable__control:checked~label.sk-toggleable__label-arrow:before {content: \"▾\";}#sk-container-id-3 div.sk-estimator input.sk-toggleable__control:checked~label.sk-toggleable__label {background-color: #d4ebff;}#sk-container-id-3 div.sk-label input.sk-toggleable__control:checked~label.sk-toggleable__label {background-color: #d4ebff;}#sk-container-id-3 input.sk-hidden--visually {border: 0;clip: rect(1px 1px 1px 1px);clip: rect(1px, 1px, 1px, 1px);height: 1px;margin: -1px;overflow: hidden;padding: 0;position: absolute;width: 1px;}#sk-container-id-3 div.sk-estimator {font-family: monospace;background-color: #f0f8ff;border: 1px dotted black;border-radius: 0.25em;box-sizing: border-box;margin-bottom: 0.5em;}#sk-container-id-3 div.sk-estimator:hover {background-color: #d4ebff;}#sk-container-id-3 div.sk-parallel-item::after {content: \"\";width: 100%;border-bottom: 1px solid gray;flex-grow: 1;}#sk-container-id-3 div.sk-label:hover label.sk-toggleable__label {background-color: #d4ebff;}#sk-container-id-3 div.sk-serial::before {content: \"\";position: absolute;border-left: 1px solid gray;box-sizing: border-box;top: 0;bottom: 0;left: 50%;z-index: 0;}#sk-container-id-3 div.sk-serial {display: flex;flex-direction: column;align-items: center;background-color: white;padding-right: 0.2em;padding-left: 0.2em;position: relative;}#sk-container-id-3 div.sk-item {position: relative;z-index: 1;}#sk-container-id-3 div.sk-parallel {display: flex;align-items: stretch;justify-content: center;background-color: white;position: relative;}#sk-container-id-3 div.sk-item::before, #sk-container-id-3 div.sk-parallel-item::before {content: \"\";position: absolute;border-left: 1px solid gray;box-sizing: border-box;top: 0;bottom: 0;left: 50%;z-index: -1;}#sk-container-id-3 div.sk-parallel-item {display: flex;flex-direction: column;z-index: 1;position: relative;background-color: white;}#sk-container-id-3 div.sk-parallel-item:first-child::after {align-self: flex-end;width: 50%;}#sk-container-id-3 div.sk-parallel-item:last-child::after {align-self: flex-start;width: 50%;}#sk-container-id-3 div.sk-parallel-item:only-child::after {width: 0;}#sk-container-id-3 div.sk-dashed-wrapped {border: 1px dashed gray;margin: 0 0.4em 0.5em 0.4em;box-sizing: border-box;padding-bottom: 0.4em;background-color: white;}#sk-container-id-3 div.sk-label label {font-family: monospace;font-weight: bold;display: inline-block;line-height: 1.2em;}#sk-container-id-3 div.sk-label-container {text-align: center;}#sk-container-id-3 div.sk-container {/* jupyter's `normalize.less` sets `[hidden] { display: none; }` but bootstrap.min.css set `[hidden] { display: none !important; }` so we also need the `!important` here to be able to override the default hidden behavior on the sphinx rendered scikit-learn.org. See: https://github.com/scikit-learn/scikit-learn/issues/21755 */display: inline-block !important;position: relative;}#sk-container-id-3 div.sk-text-repr-fallback {display: none;}</style><div id=\"sk-container-id-3\" class=\"sk-top-container\"><div class=\"sk-text-repr-fallback\"><pre>RandomForestRegressor()</pre><b>In a Jupyter environment, please rerun this cell to show the HTML representation or trust the notebook. <br />On GitHub, the HTML representation is unable to render, please try loading this page with nbviewer.org.</b></div><div class=\"sk-container\" hidden><div class=\"sk-item\"><div class=\"sk-estimator sk-toggleable\"><input class=\"sk-toggleable__control sk-hidden--visually\" id=\"sk-estimator-id-5\" type=\"checkbox\" checked><label for=\"sk-estimator-id-5\" class=\"sk-toggleable__label sk-toggleable__label-arrow\">RandomForestRegressor</label><div class=\"sk-toggleable__content\"><pre>RandomForestRegressor()</pre></div></div></div></div></div>"
      ],
      "text/plain": [
       "RandomForestRegressor()"
      ]
     },
     "execution_count": 37,
     "metadata": {},
     "output_type": "execute_result"
    }
   ],
   "source": [
    "forest=RandomForestRegressor()\n",
    "forest.fit(xtrain,ytrain)"
   ]
  },
  {
   "cell_type": "code",
   "execution_count": 38,
   "id": "aec86ffc-115e-459d-a476-dfd7f268d12e",
   "metadata": {
    "tags": []
   },
   "outputs": [
    {
     "data": {
      "text/plain": [
       "array([2059600.  , 3518000.  , 2796249.99, ..., 1429180.  ,  942780.  ,\n",
       "        786750.  ])"
      ]
     },
     "execution_count": 38,
     "metadata": {},
     "output_type": "execute_result"
    }
   ],
   "source": [
    "pred2=forest.predict(xtest)\n",
    "pred2"
   ]
  },
  {
   "cell_type": "code",
   "execution_count": 39,
   "id": "88722ca9-b84c-4da5-9de2-3d5d9f6173d4",
   "metadata": {
    "tags": []
   },
   "outputs": [
    {
     "name": "stdout",
     "output_type": "stream",
     "text": [
      "MAE 175840.08979302834\n",
      "MAPE 0.10394037216730613\n",
      "MSE 65226706202.79972\n",
      "R2 SCORE 0.9518862458242329\n"
     ]
    }
   ],
   "source": [
    "print(\"MAE\",mean_absolute_error(ytest,pred2))\n",
    "print(\"MAPE\",mean_absolute_percentage_error(ytest,pred2))\n",
    "print(\"MSE\",mean_squared_error(ytest,pred2))\n",
    "print(\"R2 SCORE\",r2_score(ytest,pred2))"
   ]
  },
  {
   "cell_type": "code",
   "execution_count": 40,
   "id": "735cb739-72d0-4a53-be9f-63c26c9216f8",
   "metadata": {
    "tags": []
   },
   "outputs": [
    {
     "data": {
      "text/html": [
       "<div>\n",
       "<style scoped>\n",
       "    .dataframe tbody tr th:only-of-type {\n",
       "        vertical-align: middle;\n",
       "    }\n",
       "\n",
       "    .dataframe tbody tr th {\n",
       "        vertical-align: top;\n",
       "    }\n",
       "\n",
       "    .dataframe thead th {\n",
       "        text-align: right;\n",
       "    }\n",
       "</style>\n",
       "<table border=\"1\" class=\"dataframe\">\n",
       "  <thead>\n",
       "    <tr style=\"text-align: right;\">\n",
       "      <th></th>\n",
       "      <th>Actual price</th>\n",
       "      <th>Predicted price</th>\n",
       "    </tr>\n",
       "  </thead>\n",
       "  <tbody>\n",
       "    <tr>\n",
       "      <th>5954</th>\n",
       "      <td>2000000</td>\n",
       "      <td>2059600.00</td>\n",
       "    </tr>\n",
       "    <tr>\n",
       "      <th>2403</th>\n",
       "      <td>3480000</td>\n",
       "      <td>3518000.00</td>\n",
       "    </tr>\n",
       "    <tr>\n",
       "      <th>552</th>\n",
       "      <td>2570000</td>\n",
       "      <td>2796249.99</td>\n",
       "    </tr>\n",
       "    <tr>\n",
       "      <th>4950</th>\n",
       "      <td>2750000</td>\n",
       "      <td>2775020.00</td>\n",
       "    </tr>\n",
       "    <tr>\n",
       "      <th>481</th>\n",
       "      <td>4300000</td>\n",
       "      <td>4135150.00</td>\n",
       "    </tr>\n",
       "    <tr>\n",
       "      <th>...</th>\n",
       "      <td>...</td>\n",
       "      <td>...</td>\n",
       "    </tr>\n",
       "    <tr>\n",
       "      <th>4604</th>\n",
       "      <td>4500000</td>\n",
       "      <td>4183450.00</td>\n",
       "    </tr>\n",
       "    <tr>\n",
       "      <th>7977</th>\n",
       "      <td>3200000</td>\n",
       "      <td>2290150.00</td>\n",
       "    </tr>\n",
       "    <tr>\n",
       "      <th>9009</th>\n",
       "      <td>1250000</td>\n",
       "      <td>1429180.00</td>\n",
       "    </tr>\n",
       "    <tr>\n",
       "      <th>4865</th>\n",
       "      <td>750000</td>\n",
       "      <td>942780.00</td>\n",
       "    </tr>\n",
       "    <tr>\n",
       "      <th>3484</th>\n",
       "      <td>925000</td>\n",
       "      <td>786750.00</td>\n",
       "    </tr>\n",
       "  </tbody>\n",
       "</table>\n",
       "<p>1836 rows × 2 columns</p>\n",
       "</div>"
      ],
      "text/plain": [
       "      Actual price  Predicted price\n",
       "5954       2000000       2059600.00\n",
       "2403       3480000       3518000.00\n",
       "552        2570000       2796249.99\n",
       "4950       2750000       2775020.00\n",
       "481        4300000       4135150.00\n",
       "...            ...              ...\n",
       "4604       4500000       4183450.00\n",
       "7977       3200000       2290150.00\n",
       "9009       1250000       1429180.00\n",
       "4865        750000        942780.00\n",
       "3484        925000        786750.00\n",
       "\n",
       "[1836 rows x 2 columns]"
      ]
     },
     "execution_count": 40,
     "metadata": {},
     "output_type": "execute_result"
    }
   ],
   "source": [
    "outcome= { \n",
    "    \"Actual price\":ytest,\n",
    "    \"Predicted price\":pred2\n",
    "\n",
    "}\n",
    "df3=pd.DataFrame(outcome)\n",
    "df3"
   ]
  },
  {
   "cell_type": "code",
   "execution_count": 43,
   "id": "d2a5efaf-8a6b-41e6-af70-441362919fcd",
   "metadata": {
    "tags": []
   },
   "outputs": [
    {
     "data": {
      "text/plain": [
       "<Axes: xlabel='Price'>"
      ]
     },
     "execution_count": 43,
     "metadata": {},
     "output_type": "execute_result"
    },
    {
     "data": {
      "image/png": "[encoded data removed]",
      "text/plain": [
       "<Figure size 640x480 with 1 Axes>"
      ]
     },
     "metadata": {},
     "output_type": "display_data"
    }
   ],
   "source": [
    "sns.regplot(x= ytest,y=pred2)"
   ]
  },
  {
   "cell_type": "code",
   "execution_count": 44,
   "id": "b00abe6f-6644-4336-89b7-c402079577f4",
   "metadata": {
    "tags": []
   },
   "outputs": [
    {
     "data": {
      "text/html": [
       "<style>#sk-container-id-4 {color: black;}#sk-container-id-4 pre{padding: 0;}#sk-container-id-4 div.sk-toggleable {background-color: white;}#sk-container-id-4 label.sk-toggleable__label {cursor: pointer;display: block;width: 100%;margin-bottom: 0;padding: 0.3em;box-sizing: border-box;text-align: center;}#sk-container-id-4 label.sk-toggleable__label-arrow:before {content: \"▸\";float: left;margin-right: 0.25em;color: #696969;}#sk-container-id-4 label.sk-toggleable__label-arrow:hover:before {color: black;}#sk-container-id-4 div.sk-estimator:hover label.sk-toggleable__label-arrow:before {color: black;}#sk-container-id-4 div.sk-toggleable__content {max-height: 0;max-width: 0;overflow: hidden;text-align: left;background-color: #f0f8ff;}#sk-container-id-4 div.sk-toggleable__content pre {margin: 0.2em;color: black;border-radius: 0.25em;background-color: #f0f8ff;}#sk-container-id-4 input.sk-toggleable__control:checked~div.sk-toggleable__content {max-height: 200px;max-width: 100%;overflow: auto;}#sk-container-id-4 input.sk-toggleable__control:checked~label.sk-toggleable__label-arrow:before {content: \"▾\";}#sk-container-id-4 div.sk-estimator input.sk-toggleable__control:checked~label.sk-toggleable__label {background-color: #d4ebff;}#sk-container-id-4 div.sk-label input.sk-toggleable__control:checked~label.sk-toggleable__label {background-color: #d4ebff;}#sk-container-id-4 input.sk-hidden--visually {border: 0;clip: rect(1px 1px 1px 1px);clip: rect(1px, 1px, 1px, 1px);height: 1px;margin: -1px;overflow: hidden;padding: 0;position: absolute;width: 1px;}#sk-container-id-4 div.sk-estimator {font-family: monospace;background-color: #f0f8ff;border: 1px dotted black;border-radius: 0.25em;box-sizing: border-box;margin-bottom: 0.5em;}#sk-container-id-4 div.sk-estimator:hover {background-color: #d4ebff;}#sk-container-id-4 div.sk-parallel-item::after {content: \"\";width: 100%;border-bottom: 1px solid gray;flex-grow: 1;}#sk-container-id-4 div.sk-label:hover label.sk-toggleable__label {background-color: #d4ebff;}#sk-container-id-4 div.sk-serial::before {content: \"\";position: absolute;border-left: 1px solid gray;box-sizing: border-box;top: 0;bottom: 0;left: 50%;z-index: 0;}#sk-container-id-4 div.sk-serial {display: flex;flex-direction: column;align-items: center;background-color: white;padding-right: 0.2em;padding-left: 0.2em;position: relative;}#sk-container-id-4 div.sk-item {position: relative;z-index: 1;}#sk-container-id-4 div.sk-parallel {display: flex;align-items: stretch;justify-content: center;background-color: white;position: relative;}#sk-container-id-4 div.sk-item::before, #sk-container-id-4 div.sk-parallel-item::before {content: \"\";position: absolute;border-left: 1px solid gray;box-sizing: border-box;top: 0;bottom: 0;left: 50%;z-index: -1;}#sk-container-id-4 div.sk-parallel-item {display: flex;flex-direction: column;z-index: 1;position: relative;background-color: white;}#sk-container-id-4 div.sk-parallel-item:first-child::after {align-self: flex-end;width: 50%;}#sk-container-id-4 div.sk-parallel-item:last-child::after {align-self: flex-start;width: 50%;}#sk-container-id-4 div.sk-parallel-item:only-child::after {width: 0;}#sk-container-id-4 div.sk-dashed-wrapped {border: 1px dashed gray;margin: 0 0.4em 0.5em 0.4em;box-sizing: border-box;padding-bottom: 0.4em;background-color: white;}#sk-container-id-4 div.sk-label label {font-family: monospace;font-weight: bold;display: inline-block;line-height: 1.2em;}#sk-container-id-4 div.sk-label-container {text-align: center;}#sk-container-id-4 div.sk-container {/* jupyter's `normalize.less` sets `[hidden] { display: none; }` but bootstrap.min.css set `[hidden] { display: none !important; }` so we also need the `!important` here to be able to override the default hidden behavior on the sphinx rendered scikit-learn.org. See: https://github.com/scikit-learn/scikit-learn/issues/21755 */display: inline-block !important;position: relative;}#sk-container-id-4 div.sk-text-repr-fallback {display: none;}</style><div id=\"sk-container-id-4\" class=\"sk-top-container\"><div class=\"sk-text-repr-fallback\"><pre>MLPRegressor()</pre><b>In a Jupyter environment, please rerun this cell to show the HTML representation or trust the notebook. <br />On GitHub, the HTML representation is unable to render, please try loading this page with nbviewer.org.</b></div><div class=\"sk-container\" hidden><div class=\"sk-item\"><div class=\"sk-estimator sk-toggleable\"><input class=\"sk-toggleable__control sk-hidden--visually\" id=\"sk-estimator-id-6\" type=\"checkbox\" checked><label for=\"sk-estimator-id-6\" class=\"sk-toggleable__label sk-toggleable__label-arrow\">MLPRegressor</label><div class=\"sk-toggleable__content\"><pre>MLPRegressor()</pre></div></div></div></div></div>"
      ],
      "text/plain": [
       "MLPRegressor()"
      ]
     },
     "execution_count": 44,
     "metadata": {},
     "output_type": "execute_result"
    }
   ],
   "source": [
    "ml=MLPRegressor()\n",
    "ml.fit(xtrain,ytrain)"
   ]
  },
  {
   "cell_type": "code",
   "execution_count": 45,
   "id": "ca8cd40d-87aa-4b7e-b590-08ec3b63c205",
   "metadata": {
    "tags": []
   },
   "outputs": [
    {
     "data": {
      "text/plain": [
       "array([2023887.83343727, 1980632.3603403 , 1990031.90940647, ...,\n",
       "       1987226.73315146, 2002086.40768959, 1978168.43009525])"
      ]
     },
     "execution_count": 45,
     "metadata": {},
     "output_type": "execute_result"
    }
   ],
   "source": [
    "pred3=ml.predict(xtest)\n",
    "pred3"
   ]
  },
  {
   "cell_type": "code",
   "execution_count": 46,
   "id": "8ea04a4b-8cf7-42d3-80a7-2e9b8d8f053d",
   "metadata": {
    "tags": []
   },
   "outputs": [
    {
     "name": "stdout",
     "output_type": "stream",
     "text": [
      "MAE 959652.5120649632\n",
      "MAPE 0.6880168105311923\n",
      "MSE 1363493932432.4783\n",
      "R2 SCORE -0.00576613022949779\n"
     ]
    }
   ],
   "source": [
    "print(\"MAE\",mean_absolute_error(ytest,pred3))\n",
    "print(\"MAPE\",mean_absolute_percentage_error(ytest,pred3))\n",
    "print(\"MSE\",mean_squared_error(ytest,pred3))\n",
    "print(\"R2 SCORE\",r2_score(ytest,pred3))"
   ]
  },
  {
   "cell_type": "code",
   "execution_count": 47,
   "id": "0e4cab1b-b0a4-4c59-b386-971de86264dc",
   "metadata": {
    "tags": []
   },
   "outputs": [
    {
     "data": {
      "text/html": [
       "<div>\n",
       "<style scoped>\n",
       "    .dataframe tbody tr th:only-of-type {\n",
       "        vertical-align: middle;\n",
       "    }\n",
       "\n",
       "    .dataframe tbody tr th {\n",
       "        vertical-align: top;\n",
       "    }\n",
       "\n",
       "    .dataframe thead th {\n",
       "        text-align: right;\n",
       "    }\n",
       "</style>\n",
       "<table border=\"1\" class=\"dataframe\">\n",
       "  <thead>\n",
       "    <tr style=\"text-align: right;\">\n",
       "      <th></th>\n",
       "      <th>Actual price</th>\n",
       "      <th>Predicted price</th>\n",
       "    </tr>\n",
       "  </thead>\n",
       "  <tbody>\n",
       "    <tr>\n",
       "      <th>5954</th>\n",
       "      <td>2000000</td>\n",
       "      <td>2.023888e+06</td>\n",
       "    </tr>\n",
       "    <tr>\n",
       "      <th>2403</th>\n",
       "      <td>3480000</td>\n",
       "      <td>1.980632e+06</td>\n",
       "    </tr>\n",
       "    <tr>\n",
       "      <th>552</th>\n",
       "      <td>2570000</td>\n",
       "      <td>1.990032e+06</td>\n",
       "    </tr>\n",
       "    <tr>\n",
       "      <th>4950</th>\n",
       "      <td>2750000</td>\n",
       "      <td>1.989609e+06</td>\n",
       "    </tr>\n",
       "    <tr>\n",
       "      <th>481</th>\n",
       "      <td>4300000</td>\n",
       "      <td>2.000413e+06</td>\n",
       "    </tr>\n",
       "    <tr>\n",
       "      <th>...</th>\n",
       "      <td>...</td>\n",
       "      <td>...</td>\n",
       "    </tr>\n",
       "    <tr>\n",
       "      <th>4604</th>\n",
       "      <td>4500000</td>\n",
       "      <td>1.992078e+06</td>\n",
       "    </tr>\n",
       "    <tr>\n",
       "      <th>7977</th>\n",
       "      <td>3200000</td>\n",
       "      <td>1.999227e+06</td>\n",
       "    </tr>\n",
       "    <tr>\n",
       "      <th>9009</th>\n",
       "      <td>1250000</td>\n",
       "      <td>1.987227e+06</td>\n",
       "    </tr>\n",
       "    <tr>\n",
       "      <th>4865</th>\n",
       "      <td>750000</td>\n",
       "      <td>2.002086e+06</td>\n",
       "    </tr>\n",
       "    <tr>\n",
       "      <th>3484</th>\n",
       "      <td>925000</td>\n",
       "      <td>1.978168e+06</td>\n",
       "    </tr>\n",
       "  </tbody>\n",
       "</table>\n",
       "<p>1836 rows × 2 columns</p>\n",
       "</div>"
      ],
      "text/plain": [
       "      Actual price  Predicted price\n",
       "5954       2000000     2.023888e+06\n",
       "2403       3480000     1.980632e+06\n",
       "552        2570000     1.990032e+06\n",
       "4950       2750000     1.989609e+06\n",
       "481        4300000     2.000413e+06\n",
       "...            ...              ...\n",
       "4604       4500000     1.992078e+06\n",
       "7977       3200000     1.999227e+06\n",
       "9009       1250000     1.987227e+06\n",
       "4865        750000     2.002086e+06\n",
       "3484        925000     1.978168e+06\n",
       "\n",
       "[1836 rows x 2 columns]"
      ]
     },
     "execution_count": 47,
     "metadata": {},
     "output_type": "execute_result"
    }
   ],
   "source": [
    "outcome= { \n",
    "    \"Actual price\":ytest,\n",
    "    \"Predicted price\":pred3\n",
    "\n",
    "}\n",
    "df3=pd.DataFrame(outcome)\n",
    "df3"
   ]
  },
  {
   "cell_type": "code",
   "execution_count": 48,
   "id": "b14d0057-58b6-4439-bf39-f72bc3002dcc",
   "metadata": {
    "tags": []
   },
   "outputs": [
    {
     "data": {
      "text/plain": [
       "<Axes: xlabel='Price'>"
      ]
     },
     "execution_count": 48,
     "metadata": {},
     "output_type": "execute_result"
    },
    {
     "data": {
      "image/png": "[encoded data removed]",
      "text/plain": [
       "<Figure size 640x480 with 1 Axes>"
      ]
     },
     "metadata": {},
     "output_type": "display_data"
    }
   ],
   "source": [
    "sns.regplot(x= ytest,y=pred3)"
   ]
  },
  {
   "cell_type": "markdown",
   "id": "aed61341-c257-4a83-b5d0-7ff85f99c889",
   "metadata": {},
   "source": [
    "according to the test results shown with the different models the \"RandomForestRegressor\" shows higher accuracy \n",
    "percentage (95%) on this dataset."
   ]
  },
  {
   "cell_type": "code",
   "execution_count": null,
   "id": "da928440-c4b9-4dc4-9f32-a47b4422fbee",
   "metadata": {},
   "outputs": [],
   "source": []
  }
 ],
 "metadata": {
  "kernelspec": {
   "display_name": "Python 3 (ipykernel)",
   "language": "python",
   "name": "python3"
  },
  "language_info": {
   "codemirror_mode": {
    "name": "ipython",
    "version": 3
   },
   "file_extension": ".py",
   "mimetype": "text/x-python",
   "name": "python",
   "nbconvert_exporter": "python",
   "pygments_lexer": "ipython3",
   "version": "3.11.5"
  }
 },
 "nbformat": 4,
 "nbformat_minor": 5
}
